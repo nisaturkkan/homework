{
 "cells": [
  {
   "cell_type": "markdown",
   "metadata": {},
   "source": [
    "2. Importing Required Libraries"
   ]
  },
  {
   "cell_type": "code",
   "execution_count": 1,
   "metadata": {},
   "outputs": [],
   "source": [
    "import csv\n",
    "import datetime"
   ]
  },
  {
   "cell_type": "markdown",
   "metadata": {},
   "source": [
    "3. Create Menu.txt"
   ]
  },
  {
   "cell_type": "code",
   "execution_count": 2,
   "metadata": {},
   "outputs": [],
   "source": [
    "pizza_menu_with_sauces = [\n",
    "    \"* Please Choose a Pizza Base:\\n\",\n",
    "    \"1: Classic\\n\",\n",
    "    \"2: Margherita\\n\",\n",
    "    \"3: TurkPizza\\n\",\n",
    "    \"4: PlainPizza\\n\",\n",
    "    \"* and sauce of your choice:\\n\",\n",
    "    \"11: Olives\\n\",\n",
    "    \"12: Mushrooms\\n\",\n",
    "    \"13: GoatCheese\\n\",\n",
    "    \"14: Meat\\n\",\n",
    "    \"15: Onions\\n\", \n",
    "    \"16: Corn\\n\",\n",
    "    \"* Thank you!\\n\"\n",
    "]\n",
    "\n",
    "with open(\"Menu.txt\", \"w\") as file:\n",
    "    file.writelines(pizza_menu_with_sauces)"
   ]
  },
  {
   "cell_type": "markdown",
   "metadata": {},
   "source": [
    "4. Create superclass “pizza”"
   ]
  },
  {
   "cell_type": "code",
   "execution_count": 3,
   "metadata": {},
   "outputs": [],
   "source": [
    "class Pizza:\n",
    "    def get_cost(self):\n",
    "        return self.price\n",
    "        \n",
    "    def get_description(self):\n",
    "        return f\"{self.__class__.__name__} Pizza\""
   ]
  },
  {
   "cell_type": "markdown",
   "metadata": {},
   "source": [
    "5. Create subclass \"pizza\""
   ]
  },
  {
   "cell_type": "code",
   "execution_count": 4,
   "metadata": {},
   "outputs": [],
   "source": [
    "\n",
    "class Classic(Pizza):\n",
    "    price = 20\n",
    "\n",
    "class Turk(Pizza):\n",
    "    price = 100\n",
    "\n",
    "class Dominos(Pizza):\n",
    "    price = 50\n",
    "    \n",
    "class Margherita(Pizza):\n",
    "    price = 45\n",
    "    \n",
    "class Plain(Pizza):\n",
    "    price = 30"
   ]
  },
  {
   "cell_type": "markdown",
   "metadata": {},
   "source": [
    "6. Create superclass \"Decorator\""
   ]
  },
  {
   "cell_type": "code",
   "execution_count": 5,
   "metadata": {},
   "outputs": [],
   "source": [
    "class Sauce:\n",
    "    def get_cost(self):\n",
    "        return self.price\n",
    "        \n",
    "    def get_description(self):\n",
    "        return f\"{self.__class__.__name__} Sauce\""
   ]
  },
  {
   "cell_type": "code",
   "execution_count": 6,
   "metadata": {},
   "outputs": [],
   "source": [
    "class Olives(Sauce):\n",
    "    price = 20\n",
    "    \n",
    "class Mushrooms(Sauce):\n",
    "    price = 20\n",
    "    \n",
    "class GoatCheese(Sauce):\n",
    "    price = 20\n",
    "    \n",
    "class Meat(Sauce):\n",
    "    price = 20\n",
    "    \n",
    "class Onions(Sauce):\n",
    "    price = 20\n",
    "    \n",
    "class Corn(Sauce):\n",
    "    price = 20"
   ]
  },
  {
   "cell_type": "code",
   "execution_count": 7,
   "metadata": {},
   "outputs": [],
   "source": [
    "class Decorator:\n",
    "    def __init__(self, sauce, pizza):\n",
    "        self.sauce = sauce # sauce component\n",
    "        self.pizza = pizza # pizza component\n",
    "    \n",
    "    def get_cost(self):\n",
    "        return self.sauce.get_cost() + self.pizza.get_cost()\n",
    "    \n",
    "    def get_description(self):\n",
    "        return self.sauce.get_description() + ' ' + self.pizza.get_description()\n"
   ]
  },
  {
   "cell_type": "code",
   "execution_count": 8,
   "metadata": {},
   "outputs": [],
   "source": [
    "def write_csv(file_path, data): \n",
    "    with open(file_path, 'w') as file:\n",
    "        writer = csv.DictWriter(file, data.keys())\n",
    "        writer.writeheader()\n",
    "        writer.writerow(data)"
   ]
  },
  {
   "cell_type": "markdown",
   "metadata": {},
   "source": [
    "Main function"
   ]
  },
  {
   "cell_type": "code",
   "execution_count": 9,
   "metadata": {},
   "outputs": [
    {
     "name": "stdout",
     "output_type": "stream",
     "text": [
      "* Please Choose a Pizza Base:\n",
      "1: Classic\n",
      "2: Margherita\n",
      "3: TurkPizza\n",
      "4: PlainPizza\n",
      "\n",
      "* Please Choose a Sauce:\n",
      "1: Olives\n",
      "2: Mushrooms\n",
      "3: GoatCheese\n",
      "4: Meat\n",
      "5: Onions\n",
      "6: Corn\n",
      "\n",
      "You have to pay 40 Liras!\n"
     ]
    }
   ],
   "source": [
    "def main():\n",
    "    # Prints the menu\n",
    "    print(\n",
    "        \"* Please Choose a Pizza Base:\\n\"\n",
    "        \"1: Classic\\n\"\n",
    "        \"2: Margherita\\n\"\n",
    "        \"3: TurkPizza\\n\"\n",
    "        \"4: PlainPizza\\n\"\n",
    "    )\n",
    "    \n",
    "    pizzas = {\n",
    "        \"Classic\": Classic(),\n",
    "        \"Margherita\": Margherita(),\n",
    "        \"TurkPizza\": Turk(),\n",
    "        \"PlainPizza\": Plain()\n",
    "    }\n",
    "    \n",
    "    sauces = {\n",
    "        \"Olives\": Olives(),\n",
    "        \"Mushrooms\": Mushrooms(),\n",
    "        \"GoatCheese\": GoatCheese(),\n",
    "        \"Onions\": Onions(),\n",
    "        \"Corn\": Corn(),\n",
    "    }\n",
    "    \n",
    "    pizza_input =  input(\"Choose the pizza?\")\n",
    "    \n",
    "    chosen_pizza = pizzas[pizza_input]\n",
    "    \n",
    "    print(\n",
    "        \"* Please Choose a Sauce:\\n\"\n",
    "        \"1: Olives\\n\"\n",
    "        \"2: Mushrooms\\n\"\n",
    "        \"3: GoatCheese\\n\"\n",
    "        \"4: Meat\\n\"\n",
    "        \"5: Onions\\n\"\n",
    "        \"6: Corn\\n\"\n",
    "    )\n",
    "    \n",
    "    sauce_input = input(\"Choose your sauce?\")\n",
    "\n",
    "    chosen_sauce = sauces[sauce_input]\n",
    "    \n",
    "    pizza_maker = Decorator(\n",
    "        chosen_sauce,\n",
    "        chosen_pizza\n",
    "    )\n",
    "    \n",
    "    total_cost = pizza_maker.get_cost()\n",
    "    \n",
    "    print(f\"You have to pay {total_cost} Liras!\")\n",
    "\n",
    "    user_order = {\n",
    "        \"pizza_input\": pizza_input,\n",
    "        \"sauce_input\": sauce_input,\n",
    "        \"total_payment\": total_cost,\n",
    "\n",
    "        \"user_name\": input(\"What is your name?\"),\n",
    "        \"user_id_number\": input(\"What is your id number?\"),\n",
    "    \n",
    "        \"user_credit_card\": input(\"What is your credit card number?\"),\n",
    "        \"user_credit_card_password\": input(\"What is your credit card password?\"),        \n",
    "\n",
    "        \"user_order_description\": input(\"What is your order description?\"),\n",
    "        \"user_order_time\": input(\"What is your order time?\"),\n",
    "    }\n",
    "    \n",
    "    write_csv(\"Orders_Database.csv\", user_order)\n",
    "    \n",
    "main()"
   ]
  },
  {
   "cell_type": "markdown",
   "metadata": {},
   "source": []
  }
 ],
 "metadata": {
  "kernelspec": {
   "display_name": "Python 3.9.13 ('base')",
   "language": "python",
   "name": "python3"
  },
  "language_info": {
   "codemirror_mode": {
    "name": "ipython",
    "version": 3
   },
   "file_extension": ".py",
   "mimetype": "text/x-python",
   "name": "python",
   "nbconvert_exporter": "python",
   "pygments_lexer": "ipython3",
   "version": "3.9.13"
  },
  "orig_nbformat": 4,
  "vscode": {
   "interpreter": {
    "hash": "40d3a090f54c6569ab1632332b64b2c03c39dcf918b08424e98f38b5ae0af88f"
   }
  }
 },
 "nbformat": 4,
 "nbformat_minor": 2
}
